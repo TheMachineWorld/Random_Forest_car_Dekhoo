{
 "cells": [
  {
   "cell_type": "code",
   "execution_count": 1,
   "id": "d115cf75-7d15-4cd5-89e2-ce535b8ea215",
   "metadata": {},
   "outputs": [],
   "source": [
    "import numpy as np\n",
    "import pandas as pd\n",
    "import matplotlib.pyplot as plt\n",
    "import seaborn as sns"
   ]
  },
  {
   "cell_type": "code",
   "execution_count": 3,
   "id": "376b9dd9-c374-4593-b43e-067581239f2a",
   "metadata": {},
   "outputs": [
    {
     "name": "stdout",
     "output_type": "stream",
     "text": [
      "    Car_Name  Year  Selling_Price  Present_Price  Kms_Driven Fuel_Type  \\\n",
      "0       ritz  2014           3.35           5.59       27000    Petrol   \n",
      "1        sx4  2013           4.75           9.54       43000    Diesel   \n",
      "2       ciaz  2017           7.25           9.85        6900    Petrol   \n",
      "3    wagon r  2011           2.85           4.15        5200    Petrol   \n",
      "4      swift  2014           4.60           6.87       42450    Diesel   \n",
      "..       ...   ...            ...            ...         ...       ...   \n",
      "296     city  2016           9.50          11.60       33988    Diesel   \n",
      "297     brio  2015           4.00           5.90       60000    Petrol   \n",
      "298     city  2009           3.35          11.00       87934    Petrol   \n",
      "299     city  2017          11.50          12.50        9000    Diesel   \n",
      "300     brio  2016           5.30           5.90        5464    Petrol   \n",
      "\n",
      "    Seller_Type Transmission  Owner  \n",
      "0        Dealer       Manual      0  \n",
      "1        Dealer       Manual      0  \n",
      "2        Dealer       Manual      0  \n",
      "3        Dealer       Manual      0  \n",
      "4        Dealer       Manual      0  \n",
      "..          ...          ...    ...  \n",
      "296      Dealer       Manual      0  \n",
      "297      Dealer       Manual      0  \n",
      "298      Dealer       Manual      0  \n",
      "299      Dealer       Manual      0  \n",
      "300      Dealer       Manual      0  \n",
      "\n",
      "[301 rows x 9 columns]\n"
     ]
    }
   ],
   "source": [
    "data=pd.read_csv(\"D:\\\\SUBHAJIT\\\\PG_ML_INTELLIPAAT\\\\Practice\\\\Machine learning\\\\Cardekho-Logistic_regression\\\\cardekho_data.csv\")\n",
    "print(data)"
   ]
  },
  {
   "cell_type": "code",
   "execution_count": 5,
   "id": "29391307-a74d-4683-b1fe-ed6d4b7ed00c",
   "metadata": {},
   "outputs": [
    {
     "name": "stdout",
     "output_type": "stream",
     "text": [
      "Index(['Car_Name', 'Year', 'Selling_Price', 'Present_Price', 'Kms_Driven',\n",
      "       'Fuel_Type', 'Seller_Type', 'Transmission', 'Owner'],\n",
      "      dtype='object')\n"
     ]
    }
   ],
   "source": [
    "print(data.columns)"
   ]
  },
  {
   "cell_type": "code",
   "execution_count": 15,
   "id": "cea2a96a-8e99-4b7f-ba8f-9d941ca42d54",
   "metadata": {},
   "outputs": [
    {
     "data": {
      "text/plain": [
       "Car_Name         0\n",
       "Year             0\n",
       "Selling_Price    0\n",
       "Present_Price    0\n",
       "Kms_Driven       0\n",
       "Fuel_Type        0\n",
       "Seller_Type      0\n",
       "Transmission     0\n",
       "Owner            0\n",
       "dtype: int64"
      ]
     },
     "execution_count": 15,
     "metadata": {},
     "output_type": "execute_result"
    }
   ],
   "source": [
    "data.isnull().sum()"
   ]
  },
  {
   "cell_type": "code",
   "execution_count": 21,
   "id": "0f1fbf99-f96a-4d0f-bb7c-f8b217a23f36",
   "metadata": {},
   "outputs": [
    {
     "data": {
      "text/plain": [
       "0      False\n",
       "1      False\n",
       "2      False\n",
       "3      False\n",
       "4      False\n",
       "       ...  \n",
       "296    False\n",
       "297    False\n",
       "298    False\n",
       "299    False\n",
       "300    False\n",
       "Length: 301, dtype: bool"
      ]
     },
     "execution_count": 21,
     "metadata": {},
     "output_type": "execute_result"
    }
   ],
   "source": [
    "data.duplicated()"
   ]
  },
  {
   "cell_type": "code",
   "execution_count": 23,
   "id": "abcf7ebf-76eb-4a26-b4fc-42641f4e91d4",
   "metadata": {},
   "outputs": [
    {
     "data": {
      "text/html": [
       "<div>\n",
       "<style scoped>\n",
       "    .dataframe tbody tr th:only-of-type {\n",
       "        vertical-align: middle;\n",
       "    }\n",
       "\n",
       "    .dataframe tbody tr th {\n",
       "        vertical-align: top;\n",
       "    }\n",
       "\n",
       "    .dataframe thead th {\n",
       "        text-align: right;\n",
       "    }\n",
       "</style>\n",
       "<table border=\"1\" class=\"dataframe\">\n",
       "  <thead>\n",
       "    <tr style=\"text-align: right;\">\n",
       "      <th></th>\n",
       "      <th>Year</th>\n",
       "      <th>Selling_Price</th>\n",
       "      <th>Present_Price</th>\n",
       "      <th>Kms_Driven</th>\n",
       "      <th>Owner</th>\n",
       "    </tr>\n",
       "  </thead>\n",
       "  <tbody>\n",
       "    <tr>\n",
       "      <th>count</th>\n",
       "      <td>301.000000</td>\n",
       "      <td>301.000000</td>\n",
       "      <td>301.000000</td>\n",
       "      <td>301.000000</td>\n",
       "      <td>301.000000</td>\n",
       "    </tr>\n",
       "    <tr>\n",
       "      <th>mean</th>\n",
       "      <td>2013.627907</td>\n",
       "      <td>4.661296</td>\n",
       "      <td>7.628472</td>\n",
       "      <td>36947.205980</td>\n",
       "      <td>0.043189</td>\n",
       "    </tr>\n",
       "    <tr>\n",
       "      <th>std</th>\n",
       "      <td>2.891554</td>\n",
       "      <td>5.082812</td>\n",
       "      <td>8.644115</td>\n",
       "      <td>38886.883882</td>\n",
       "      <td>0.247915</td>\n",
       "    </tr>\n",
       "    <tr>\n",
       "      <th>min</th>\n",
       "      <td>2003.000000</td>\n",
       "      <td>0.100000</td>\n",
       "      <td>0.320000</td>\n",
       "      <td>500.000000</td>\n",
       "      <td>0.000000</td>\n",
       "    </tr>\n",
       "    <tr>\n",
       "      <th>25%</th>\n",
       "      <td>2012.000000</td>\n",
       "      <td>0.900000</td>\n",
       "      <td>1.200000</td>\n",
       "      <td>15000.000000</td>\n",
       "      <td>0.000000</td>\n",
       "    </tr>\n",
       "    <tr>\n",
       "      <th>50%</th>\n",
       "      <td>2014.000000</td>\n",
       "      <td>3.600000</td>\n",
       "      <td>6.400000</td>\n",
       "      <td>32000.000000</td>\n",
       "      <td>0.000000</td>\n",
       "    </tr>\n",
       "    <tr>\n",
       "      <th>75%</th>\n",
       "      <td>2016.000000</td>\n",
       "      <td>6.000000</td>\n",
       "      <td>9.900000</td>\n",
       "      <td>48767.000000</td>\n",
       "      <td>0.000000</td>\n",
       "    </tr>\n",
       "    <tr>\n",
       "      <th>max</th>\n",
       "      <td>2018.000000</td>\n",
       "      <td>35.000000</td>\n",
       "      <td>92.600000</td>\n",
       "      <td>500000.000000</td>\n",
       "      <td>3.000000</td>\n",
       "    </tr>\n",
       "  </tbody>\n",
       "</table>\n",
       "</div>"
      ],
      "text/plain": [
       "              Year  Selling_Price  Present_Price     Kms_Driven       Owner\n",
       "count   301.000000     301.000000     301.000000     301.000000  301.000000\n",
       "mean   2013.627907       4.661296       7.628472   36947.205980    0.043189\n",
       "std       2.891554       5.082812       8.644115   38886.883882    0.247915\n",
       "min    2003.000000       0.100000       0.320000     500.000000    0.000000\n",
       "25%    2012.000000       0.900000       1.200000   15000.000000    0.000000\n",
       "50%    2014.000000       3.600000       6.400000   32000.000000    0.000000\n",
       "75%    2016.000000       6.000000       9.900000   48767.000000    0.000000\n",
       "max    2018.000000      35.000000      92.600000  500000.000000    3.000000"
      ]
     },
     "execution_count": 23,
     "metadata": {},
     "output_type": "execute_result"
    }
   ],
   "source": [
    "data.describe()"
   ]
  },
  {
   "cell_type": "code",
   "execution_count": 7,
   "id": "f258546a-3e87-4bda-a213-ee293a947ac8",
   "metadata": {},
   "outputs": [
    {
     "name": "stdout",
     "output_type": "stream",
     "text": [
      "<class 'pandas.core.frame.DataFrame'>\n",
      "RangeIndex: 301 entries, 0 to 300\n",
      "Data columns (total 9 columns):\n",
      " #   Column         Non-Null Count  Dtype  \n",
      "---  ------         --------------  -----  \n",
      " 0   Car_Name       301 non-null    object \n",
      " 1   Year           301 non-null    int64  \n",
      " 2   Selling_Price  301 non-null    float64\n",
      " 3   Present_Price  301 non-null    float64\n",
      " 4   Kms_Driven     301 non-null    int64  \n",
      " 5   Fuel_Type      301 non-null    object \n",
      " 6   Seller_Type    301 non-null    object \n",
      " 7   Transmission   301 non-null    object \n",
      " 8   Owner          301 non-null    int64  \n",
      "dtypes: float64(2), int64(3), object(4)\n",
      "memory usage: 21.3+ KB\n"
     ]
    }
   ],
   "source": [
    "data.info()"
   ]
  },
  {
   "cell_type": "code",
   "execution_count": 9,
   "id": "2105e39a-9bf8-42e9-b15f-b0183ea0c6bb",
   "metadata": {},
   "outputs": [
    {
     "data": {
      "text/plain": [
       "3"
      ]
     },
     "execution_count": 9,
     "metadata": {},
     "output_type": "execute_result"
    }
   ],
   "source": [
    "data[\"Fuel_Type\"].nunique()"
   ]
  },
  {
   "cell_type": "code",
   "execution_count": 11,
   "id": "a5d2f001-9286-49a1-9215-cd33d510a3b7",
   "metadata": {},
   "outputs": [
    {
     "data": {
      "text/plain": [
       "2"
      ]
     },
     "execution_count": 11,
     "metadata": {},
     "output_type": "execute_result"
    }
   ],
   "source": [
    "data[\"Seller_Type\"].nunique()"
   ]
  },
  {
   "cell_type": "code",
   "execution_count": 13,
   "id": "660ffa15-391f-4897-a21a-2569512e489d",
   "metadata": {},
   "outputs": [
    {
     "data": {
      "text/plain": [
       "2"
      ]
     },
     "execution_count": 13,
     "metadata": {},
     "output_type": "execute_result"
    }
   ],
   "source": [
    "data[\"Transmission\"].nunique()"
   ]
  },
  {
   "cell_type": "code",
   "execution_count": 35,
   "id": "ffa743d5-f772-4af4-817d-054e6b787414",
   "metadata": {},
   "outputs": [
    {
     "data": {
      "image/png": "[encoded data removed]",
      "text/plain": [
       "<Figure size 800x600 with 1 Axes>"
      ]
     },
     "metadata": {},
     "output_type": "display_data"
    }
   ],
   "source": [
    "plt.figure(figsize=(8,6))\n",
    "top_cars_name = data[\"Car_Name\"].value_counts().nlargest(10)\n",
    "labels = top_cars_name.index\n",
    "plt.pie(top_cars_name,labels=labels,autopct='%.f%%')\n",
    "plt.title(\"Car Names\", fontsize=14)\n",
    "plt.show()"
   ]
  },
  {
   "cell_type": "code",
   "execution_count": 37,
   "id": "be0f3b03-e269-4c8f-a7ab-ddebbc2147b9",
   "metadata": {},
   "outputs": [
    {
     "data": {
      "text/plain": [
       "<seaborn.axisgrid.FacetGrid at 0x2266ccdfdd0>"
      ]
     },
     "execution_count": 37,
     "metadata": {},
     "output_type": "execute_result"
    },
    {
     "data": {
      "image/png": "[encoded data removed]",
      "text/plain": [
       "<Figure size 500x500 with 1 Axes>"
      ]
     },
     "metadata": {},
     "output_type": "display_data"
    }
   ],
   "source": [
    "sns.relplot(x=\"Seller_Type\",y=\"Selling_Price\",data=data,kind=\"line\")"
   ]
  },
  {
   "cell_type": "code",
   "execution_count": 39,
   "id": "cd8f0043-2252-4624-a6a2-1bc27f0bf72a",
   "metadata": {},
   "outputs": [
    {
     "data": {
      "text/plain": [
       "<seaborn.axisgrid.FacetGrid at 0x22666373890>"
      ]
     },
     "execution_count": 39,
     "metadata": {},
     "output_type": "execute_result"
    },
    {
     "data": {
      "image/png": "[encoded data removed]",
      "text/plain": [
       "<Figure size 511.111x500 with 1 Axes>"
      ]
     },
     "metadata": {},
     "output_type": "display_data"
    }
   ],
   "source": [
    "sns.catplot(x=\"Seller_Type\",y=\"Selling_Price\",data=data,kind=\"box\")"
   ]
  },
  {
   "cell_type": "code",
   "execution_count": 41,
   "id": "dcb35d8b-a180-41ae-8575-d532177ad2af",
   "metadata": {},
   "outputs": [
    {
     "data": {
      "text/plain": [
       "<seaborn.axisgrid.FacetGrid at 0x226663c3f50>"
      ]
     },
     "execution_count": 41,
     "metadata": {},
     "output_type": "execute_result"
    },
    {
     "data": {
      "image/png": "[encoded data removed]",
      "text/plain": [
       "<Figure size 511.111x500 with 1 Axes>"
      ]
     },
     "metadata": {},
     "output_type": "display_data"
    }
   ],
   "source": [
    "sns.catplot(x=\"Fuel_Type\",y=\"Selling_Price\",data=data,kind=\"box\")"
   ]
  },
  {
   "cell_type": "code",
   "execution_count": 43,
   "id": "e081b9e9-55cb-4cd3-a07d-fbbd738689ff",
   "metadata": {},
   "outputs": [
    {
     "data": {
      "text/plain": [
       "<seaborn.axisgrid.FacetGrid at 0x2266597f350>"
      ]
     },
     "execution_count": 43,
     "metadata": {},
     "output_type": "execute_result"
    },
    {
     "data": {
      "image/png": "[encoded data removed]",
      "text/plain": [
       "<Figure size 621.375x500 with 1 Axes>"
      ]
     },
     "metadata": {},
     "output_type": "display_data"
    }
   ],
   "source": [
    "sns.catplot(x=\"Fuel_Type\",y=\"Selling_Price\",hue=\"Transmission\",data=data,kind=\"box\")"
   ]
  },
  {
   "cell_type": "code",
   "execution_count": 45,
   "id": "c4c6a89c-0360-4f34-820e-51b156e5b549",
   "metadata": {},
   "outputs": [
    {
     "name": "stdout",
     "output_type": "stream",
     "text": [
      "Defaulting to user installation because normal site-packages is not writeable\n",
      "Requirement already satisfied: autoviz in c:\\users\\subha\\appdata\\roaming\\python\\python311\\site-packages (0.1.905)\n",
      "Requirement already satisfied: xlrd in c:\\users\\subha\\appdata\\roaming\\python\\python311\\site-packages (from autoviz) (2.0.1)\n",
      "Requirement already satisfied: wordcloud in c:\\users\\subha\\appdata\\roaming\\python\\python311\\site-packages (from autoviz) (1.9.3)\n",
      "Requirement already satisfied: emoji in c:\\users\\subha\\appdata\\roaming\\python\\python311\\site-packages (from autoviz) (2.12.1)\n",
      "Requirement already satisfied: pyamg in c:\\users\\subha\\appdata\\roaming\\python\\python311\\site-packages (from autoviz) (5.2.1)\n",
      "Requirement already satisfied: scikit-learn in c:\\programdata\\anaconda3\\lib\\site-packages (from autoviz) (1.2.2)\n",
      "Requirement already satisfied: statsmodels in c:\\programdata\\anaconda3\\lib\\site-packages (from autoviz) (0.14.0)\n",
      "Requirement already satisfied: nltk in c:\\programdata\\anaconda3\\lib\\site-packages (from autoviz) (3.8.1)\n",
      "Requirement already satisfied: textblob in c:\\users\\subha\\appdata\\roaming\\python\\python311\\site-packages (from autoviz) (0.18.0.post0)\n",
      "Requirement already satisfied: xgboost<1.7,>=0.82 in c:\\users\\subha\\appdata\\roaming\\python\\python311\\site-packages (from autoviz) (1.6.2)\n",
      "Requirement already satisfied: fsspec>=0.8.3 in c:\\programdata\\anaconda3\\lib\\site-packages (from autoviz) (2023.10.0)\n",
      "Requirement already satisfied: typing-extensions>=4.1.1 in c:\\programdata\\anaconda3\\lib\\site-packages (from autoviz) (4.9.0)\n",
      "Requirement already satisfied: pandas-dq>=1.29 in c:\\users\\subha\\appdata\\roaming\\python\\python311\\site-packages (from autoviz) (1.29)\n",
      "Requirement already satisfied: numpy>=1.24.0 in c:\\programdata\\anaconda3\\lib\\site-packages (from autoviz) (1.26.4)\n",
      "Requirement already satisfied: hvplot>=0.9.2 in c:\\programdata\\anaconda3\\lib\\site-packages (from autoviz) (0.9.2)\n",
      "Requirement already satisfied: holoviews>=1.16.0 in c:\\programdata\\anaconda3\\lib\\site-packages (from autoviz) (1.18.3)\n",
      "Requirement already satisfied: panel>=1.4.0 in c:\\users\\subha\\appdata\\roaming\\python\\python311\\site-packages (from autoviz) (1.4.5)\n",
      "Requirement already satisfied: pandas>=2.0 in c:\\programdata\\anaconda3\\lib\\site-packages (from autoviz) (2.1.4)\n",
      "Requirement already satisfied: matplotlib>3.7.4 in c:\\programdata\\anaconda3\\lib\\site-packages (from autoviz) (3.8.0)\n",
      "Requirement already satisfied: seaborn>0.12.2 in c:\\users\\subha\\appdata\\roaming\\python\\python311\\site-packages (from autoviz) (0.13.2)\n",
      "Requirement already satisfied: param<3.0,>=1.12.0 in c:\\users\\subha\\appdata\\roaming\\python\\python311\\site-packages (from holoviews>=1.16.0->autoviz) (2.1.1)\n",
      "Requirement already satisfied: pyviz-comms>=0.7.4 in c:\\programdata\\anaconda3\\lib\\site-packages (from holoviews>=1.16.0->autoviz) (3.0.0)\n",
      "Requirement already satisfied: colorcet in c:\\programdata\\anaconda3\\lib\\site-packages (from holoviews>=1.16.0->autoviz) (3.0.1)\n",
      "Requirement already satisfied: packaging in c:\\programdata\\anaconda3\\lib\\site-packages (from holoviews>=1.16.0->autoviz) (23.1)\n",
      "Requirement already satisfied: bokeh>=1.0.0 in c:\\users\\subha\\appdata\\roaming\\python\\python311\\site-packages (from hvplot>=0.9.2->autoviz) (3.4.3)\n",
      "Requirement already satisfied: contourpy>=1.0.1 in c:\\programdata\\anaconda3\\lib\\site-packages (from matplotlib>3.7.4->autoviz) (1.2.0)\n",
      "Requirement already satisfied: cycler>=0.10 in c:\\programdata\\anaconda3\\lib\\site-packages (from matplotlib>3.7.4->autoviz) (0.11.0)\n",
      "Requirement already satisfied: fonttools>=4.22.0 in c:\\programdata\\anaconda3\\lib\\site-packages (from matplotlib>3.7.4->autoviz) (4.25.0)\n",
      "Requirement already satisfied: kiwisolver>=1.0.1 in c:\\programdata\\anaconda3\\lib\\site-packages (from matplotlib>3.7.4->autoviz) (1.4.4)\n",
      "Requirement already satisfied: pillow>=6.2.0 in c:\\programdata\\anaconda3\\lib\\site-packages (from matplotlib>3.7.4->autoviz) (10.2.0)\n",
      "Requirement already satisfied: pyparsing>=2.3.1 in c:\\programdata\\anaconda3\\lib\\site-packages (from matplotlib>3.7.4->autoviz) (3.0.9)\n",
      "Requirement already satisfied: python-dateutil>=2.7 in c:\\programdata\\anaconda3\\lib\\site-packages (from matplotlib>3.7.4->autoviz) (2.8.2)\n",
      "Requirement already satisfied: pytz>=2020.1 in c:\\programdata\\anaconda3\\lib\\site-packages (from pandas>=2.0->autoviz) (2023.3.post1)\n",
      "Requirement already satisfied: tzdata>=2022.1 in c:\\programdata\\anaconda3\\lib\\site-packages (from pandas>=2.0->autoviz) (2023.3)\n",
      "Requirement already satisfied: xyzservices>=2021.09.1 in c:\\programdata\\anaconda3\\lib\\site-packages (from panel>=1.4.0->autoviz) (2022.9.0)\n",
      "Requirement already satisfied: markdown in c:\\programdata\\anaconda3\\lib\\site-packages (from panel>=1.4.0->autoviz) (3.4.1)\n",
      "Requirement already satisfied: markdown-it-py in c:\\programdata\\anaconda3\\lib\\site-packages (from panel>=1.4.0->autoviz) (2.2.0)\n",
      "Requirement already satisfied: linkify-it-py in c:\\programdata\\anaconda3\\lib\\site-packages (from panel>=1.4.0->autoviz) (2.0.0)\n",
      "Requirement already satisfied: mdit-py-plugins in c:\\programdata\\anaconda3\\lib\\site-packages (from panel>=1.4.0->autoviz) (0.3.0)\n",
      "Requirement already satisfied: requests in c:\\programdata\\anaconda3\\lib\\site-packages (from panel>=1.4.0->autoviz) (2.31.0)\n",
      "Requirement already satisfied: tqdm>=4.48.0 in c:\\programdata\\anaconda3\\lib\\site-packages (from panel>=1.4.0->autoviz) (4.65.0)\n",
      "Requirement already satisfied: bleach in c:\\programdata\\anaconda3\\lib\\site-packages (from panel>=1.4.0->autoviz) (4.1.0)\n",
      "Requirement already satisfied: scipy>=1.3.2 in c:\\programdata\\anaconda3\\lib\\site-packages (from scikit-learn->autoviz) (1.11.4)\n",
      "Requirement already satisfied: joblib>=1.1.1 in c:\\programdata\\anaconda3\\lib\\site-packages (from scikit-learn->autoviz) (1.2.0)\n",
      "Requirement already satisfied: threadpoolctl>=2.0.0 in c:\\programdata\\anaconda3\\lib\\site-packages (from scikit-learn->autoviz) (2.2.0)\n",
      "Requirement already satisfied: click in c:\\programdata\\anaconda3\\lib\\site-packages (from nltk->autoviz) (8.1.7)\n",
      "Requirement already satisfied: regex>=2021.8.3 in c:\\programdata\\anaconda3\\lib\\site-packages (from nltk->autoviz) (2023.10.3)\n",
      "Requirement already satisfied: patsy>=0.5.2 in c:\\programdata\\anaconda3\\lib\\site-packages (from statsmodels->autoviz) (0.5.3)\n",
      "Requirement already satisfied: Jinja2>=2.9 in c:\\programdata\\anaconda3\\lib\\site-packages (from bokeh>=1.0.0->hvplot>=0.9.2->autoviz) (3.1.3)\n",
      "Requirement already satisfied: PyYAML>=3.10 in c:\\programdata\\anaconda3\\lib\\site-packages (from bokeh>=1.0.0->hvplot>=0.9.2->autoviz) (6.0.1)\n",
      "Requirement already satisfied: tornado>=6.2 in c:\\programdata\\anaconda3\\lib\\site-packages (from bokeh>=1.0.0->hvplot>=0.9.2->autoviz) (6.3.3)\n",
      "Requirement already satisfied: pyct>=0.4.4 in c:\\programdata\\anaconda3\\lib\\site-packages (from colorcet->holoviews>=1.16.0->autoviz) (0.5.0)\n",
      "Requirement already satisfied: six in c:\\programdata\\anaconda3\\lib\\site-packages (from patsy>=0.5.2->statsmodels->autoviz) (1.16.0)\n",
      "Requirement already satisfied: colorama in c:\\programdata\\anaconda3\\lib\\site-packages (from tqdm>=4.48.0->panel>=1.4.0->autoviz) (0.4.6)\n",
      "Requirement already satisfied: webencodings in c:\\programdata\\anaconda3\\lib\\site-packages (from bleach->panel>=1.4.0->autoviz) (0.5.1)\n",
      "Requirement already satisfied: uc-micro-py in c:\\programdata\\anaconda3\\lib\\site-packages (from linkify-it-py->panel>=1.4.0->autoviz) (1.0.1)\n",
      "Requirement already satisfied: mdurl~=0.1 in c:\\programdata\\anaconda3\\lib\\site-packages (from markdown-it-py->panel>=1.4.0->autoviz) (0.1.0)\n",
      "Requirement already satisfied: charset-normalizer<4,>=2 in c:\\programdata\\anaconda3\\lib\\site-packages (from requests->panel>=1.4.0->autoviz) (2.0.4)\n",
      "Requirement already satisfied: idna<4,>=2.5 in c:\\programdata\\anaconda3\\lib\\site-packages (from requests->panel>=1.4.0->autoviz) (3.4)\n",
      "Requirement already satisfied: urllib3<3,>=1.21.1 in c:\\programdata\\anaconda3\\lib\\site-packages (from requests->panel>=1.4.0->autoviz) (2.0.7)\n",
      "Requirement already satisfied: certifi>=2017.4.17 in c:\\programdata\\anaconda3\\lib\\site-packages (from requests->panel>=1.4.0->autoviz) (2024.7.4)\n",
      "Requirement already satisfied: MarkupSafe>=2.0 in c:\\programdata\\anaconda3\\lib\\site-packages (from Jinja2>=2.9->bokeh>=1.0.0->hvplot>=0.9.2->autoviz) (2.1.3)\n"
     ]
    }
   ],
   "source": [
    "!pip install autoviz"
   ]
  },
  {
   "cell_type": "code",
   "execution_count": 47,
   "id": "ce8f0aaf-95c7-42c1-ac78-79687b57cbb7",
   "metadata": {},
   "outputs": [
    {
     "name": "stdout",
     "output_type": "stream",
     "text": [
      "Imported v0.1.905. Please call AutoViz in this sequence:\n",
      "    AV = AutoViz_Class()\n",
      "    %matplotlib inline\n",
      "    dfte = AV.AutoViz(filename, sep=',', depVar='', dfte=None, header=0, verbose=1, lowess=False,\n",
      "               chart_format='svg',max_rows_analyzed=150000,max_cols_analyzed=30, save_plot_dir=None)\n"
     ]
    }
   ],
   "source": [
    "from autoviz.AutoViz_Class import AutoViz_Class"
   ]
  },
  {
   "cell_type": "code",
   "execution_count": 49,
   "id": "4048c6fd-2edc-4041-8038-d071249c6618",
   "metadata": {},
   "outputs": [
    {
     "name": "stdout",
     "output_type": "stream",
     "text": [
      "Shape of your Data Set loaded: (301, 9)\n",
      "#######################################################################################\n",
      "######################## C L A S S I F Y I N G  V A R I A B L E S  ####################\n",
      "#######################################################################################\n",
      "Classifying variables in data set...\n",
      "    Number of Numeric Columns =  2\n",
      "    Number of Integer-Categorical Columns =  2\n",
      "    Number of String-Categorical Columns =  2\n",
      "    Number of Factor-Categorical Columns =  0\n",
      "    Number of String-Boolean Columns =  2\n",
      "    Number of Numeric-Boolean Columns =  0\n",
      "    Number of Discrete String Columns =  0\n",
      "    Number of NLP String Columns =  0\n",
      "    Number of Date Time Columns =  1\n",
      "    Number of ID Columns =  0\n",
      "    Number of Columns to Delete =  0\n",
      "    9 Predictors classified...\n",
      "        No variables removed since no ID or low-information variables found in data set\n",
      "To fix these data quality issues in the dataset, import FixDQ from autoviz...\n",
      "There are 2 duplicate rows in your dataset\n",
      "    Alert: Dropping duplicate rows can sometimes cause your column data types to change to object!\n",
      "    All variables classified into correct types.\n"
     ]
    },
    {
     "data": {
      "text/html": [
       "<style type=\"text/css\">\n",
       "#T_4326b_row0_col0, #T_4326b_row0_col2, #T_4326b_row0_col3, #T_4326b_row0_col4, #T_4326b_row0_col5, #T_4326b_row1_col0, #T_4326b_row1_col2, #T_4326b_row1_col3, #T_4326b_row1_col4, #T_4326b_row1_col5, #T_4326b_row2_col0, #T_4326b_row2_col2, #T_4326b_row2_col3, #T_4326b_row2_col4, #T_4326b_row2_col5, #T_4326b_row3_col0, #T_4326b_row3_col2, #T_4326b_row3_col3, #T_4326b_row3_col4, #T_4326b_row3_col5, #T_4326b_row4_col0, #T_4326b_row4_col2, #T_4326b_row4_col3, #T_4326b_row4_col4, #T_4326b_row4_col5, #T_4326b_row5_col0, #T_4326b_row5_col2, #T_4326b_row5_col3, #T_4326b_row5_col4, #T_4326b_row5_col5, #T_4326b_row6_col0, #T_4326b_row6_col2, #T_4326b_row6_col3, #T_4326b_row6_col4, #T_4326b_row6_col5, #T_4326b_row7_col0, #T_4326b_row7_col2, #T_4326b_row7_col3, #T_4326b_row7_col4, #T_4326b_row7_col5, #T_4326b_row8_col0, #T_4326b_row8_col2, #T_4326b_row8_col3, #T_4326b_row8_col4, #T_4326b_row8_col5 {\n",
       "  font-family: Segoe UI;\n",
       "}\n",
       "#T_4326b_row0_col1, #T_4326b_row1_col1, #T_4326b_row2_col1, #T_4326b_row3_col1, #T_4326b_row4_col1, #T_4326b_row5_col1, #T_4326b_row6_col1, #T_4326b_row7_col1, #T_4326b_row8_col1 {\n",
       "  background-color: #fff5f0;\n",
       "  color: #000000;\n",
       "  font-family: Segoe UI;\n",
       "}\n",
       "</style>\n",
       "<table id=\"T_4326b\">\n",
       "  <thead>\n",
       "    <tr>\n",
       "      <th class=\"blank level0\" >&nbsp;</th>\n",
       "      <th id=\"T_4326b_level0_col0\" class=\"col_heading level0 col0\" >Data Type</th>\n",
       "      <th id=\"T_4326b_level0_col1\" class=\"col_heading level0 col1\" >Missing Values%</th>\n",
       "      <th id=\"T_4326b_level0_col2\" class=\"col_heading level0 col2\" >Unique Values%</th>\n",
       "      <th id=\"T_4326b_level0_col3\" class=\"col_heading level0 col3\" >Minimum Value</th>\n",
       "      <th id=\"T_4326b_level0_col4\" class=\"col_heading level0 col4\" >Maximum Value</th>\n",
       "      <th id=\"T_4326b_level0_col5\" class=\"col_heading level0 col5\" >DQ Issue</th>\n",
       "    </tr>\n",
       "  </thead>\n",
       "  <tbody>\n",
       "    <tr>\n",
       "      <th id=\"T_4326b_level0_row0\" class=\"row_heading level0 row0\" >Car_Name</th>\n",
       "      <td id=\"T_4326b_row0_col0\" class=\"data row0 col0\" >object</td>\n",
       "      <td id=\"T_4326b_row0_col1\" class=\"data row0 col1\" >0.000000</td>\n",
       "      <td id=\"T_4326b_row0_col2\" class=\"data row0 col2\" >32</td>\n",
       "      <td id=\"T_4326b_row0_col3\" class=\"data row0 col3\" ></td>\n",
       "      <td id=\"T_4326b_row0_col4\" class=\"data row0 col4\" ></td>\n",
       "      <td id=\"T_4326b_row0_col5\" class=\"data row0 col5\" >64 rare categories: Too many to list. Group them into a single category or drop the categories.</td>\n",
       "    </tr>\n",
       "    <tr>\n",
       "      <th id=\"T_4326b_level0_row1\" class=\"row_heading level0 row1\" >Year</th>\n",
       "      <td id=\"T_4326b_row1_col0\" class=\"data row1 col0\" >int64</td>\n",
       "      <td id=\"T_4326b_row1_col1\" class=\"data row1 col1\" >0.000000</td>\n",
       "      <td id=\"T_4326b_row1_col2\" class=\"data row1 col2\" >5</td>\n",
       "      <td id=\"T_4326b_row1_col3\" class=\"data row1 col3\" >2003.000000</td>\n",
       "      <td id=\"T_4326b_row1_col4\" class=\"data row1 col4\" >2018.000000</td>\n",
       "      <td id=\"T_4326b_row1_col5\" class=\"data row1 col5\" >Possible date-time colum: transform before modeling step.</td>\n",
       "    </tr>\n",
       "    <tr>\n",
       "      <th id=\"T_4326b_level0_row2\" class=\"row_heading level0 row2\" >Selling_Price</th>\n",
       "      <td id=\"T_4326b_row2_col0\" class=\"data row2 col0\" >float64</td>\n",
       "      <td id=\"T_4326b_row2_col1\" class=\"data row2 col1\" >0.000000</td>\n",
       "      <td id=\"T_4326b_row2_col2\" class=\"data row2 col2\" >NA</td>\n",
       "      <td id=\"T_4326b_row2_col3\" class=\"data row2 col3\" >0.100000</td>\n",
       "      <td id=\"T_4326b_row2_col4\" class=\"data row2 col4\" >35.000000</td>\n",
       "      <td id=\"T_4326b_row2_col5\" class=\"data row2 col5\" >Column has 16 outliers greater than upper bound (13.73) or lower than lower bound(-6.88). Cap them or remove them.</td>\n",
       "    </tr>\n",
       "    <tr>\n",
       "      <th id=\"T_4326b_level0_row3\" class=\"row_heading level0 row3\" >Present_Price</th>\n",
       "      <td id=\"T_4326b_row3_col0\" class=\"data row3 col0\" >float64</td>\n",
       "      <td id=\"T_4326b_row3_col1\" class=\"data row3 col1\" >0.000000</td>\n",
       "      <td id=\"T_4326b_row3_col2\" class=\"data row3 col2\" >NA</td>\n",
       "      <td id=\"T_4326b_row3_col3\" class=\"data row3 col3\" >0.320000</td>\n",
       "      <td id=\"T_4326b_row3_col4\" class=\"data row3 col4\" >92.600000</td>\n",
       "      <td id=\"T_4326b_row3_col5\" class=\"data row3 col5\" >Column has 14 outliers greater than upper bound (22.80) or lower than lower bound(-11.76). Cap them or remove them., Column has a high correlation with ['Selling_Price']. Consider dropping one of them.</td>\n",
       "    </tr>\n",
       "    <tr>\n",
       "      <th id=\"T_4326b_level0_row4\" class=\"row_heading level0 row4\" >Kms_Driven</th>\n",
       "      <td id=\"T_4326b_row4_col0\" class=\"data row4 col0\" >int64</td>\n",
       "      <td id=\"T_4326b_row4_col1\" class=\"data row4 col1\" >0.000000</td>\n",
       "      <td id=\"T_4326b_row4_col2\" class=\"data row4 col2\" >68</td>\n",
       "      <td id=\"T_4326b_row4_col3\" class=\"data row4 col3\" >500.000000</td>\n",
       "      <td id=\"T_4326b_row4_col4\" class=\"data row4 col4\" >500000.000000</td>\n",
       "      <td id=\"T_4326b_row4_col5\" class=\"data row4 col5\" >Column has 8 outliers greater than upper bound (99708.75) or lower than lower bound(-35825.25). Cap them or remove them.</td>\n",
       "    </tr>\n",
       "    <tr>\n",
       "      <th id=\"T_4326b_level0_row5\" class=\"row_heading level0 row5\" >Fuel_Type</th>\n",
       "      <td id=\"T_4326b_row5_col0\" class=\"data row5 col0\" >object</td>\n",
       "      <td id=\"T_4326b_row5_col1\" class=\"data row5 col1\" >0.000000</td>\n",
       "      <td id=\"T_4326b_row5_col2\" class=\"data row5 col2\" >1</td>\n",
       "      <td id=\"T_4326b_row5_col3\" class=\"data row5 col3\" ></td>\n",
       "      <td id=\"T_4326b_row5_col4\" class=\"data row5 col4\" ></td>\n",
       "      <td id=\"T_4326b_row5_col5\" class=\"data row5 col5\" >1 rare categories: ['CNG']. Group them into a single category or drop the categories.</td>\n",
       "    </tr>\n",
       "    <tr>\n",
       "      <th id=\"T_4326b_level0_row6\" class=\"row_heading level0 row6\" >Seller_Type</th>\n",
       "      <td id=\"T_4326b_row6_col0\" class=\"data row6 col0\" >object</td>\n",
       "      <td id=\"T_4326b_row6_col1\" class=\"data row6 col1\" >0.000000</td>\n",
       "      <td id=\"T_4326b_row6_col2\" class=\"data row6 col2\" >0</td>\n",
       "      <td id=\"T_4326b_row6_col3\" class=\"data row6 col3\" ></td>\n",
       "      <td id=\"T_4326b_row6_col4\" class=\"data row6 col4\" ></td>\n",
       "      <td id=\"T_4326b_row6_col5\" class=\"data row6 col5\" >No issue</td>\n",
       "    </tr>\n",
       "    <tr>\n",
       "      <th id=\"T_4326b_level0_row7\" class=\"row_heading level0 row7\" >Transmission</th>\n",
       "      <td id=\"T_4326b_row7_col0\" class=\"data row7 col0\" >object</td>\n",
       "      <td id=\"T_4326b_row7_col1\" class=\"data row7 col1\" >0.000000</td>\n",
       "      <td id=\"T_4326b_row7_col2\" class=\"data row7 col2\" >0</td>\n",
       "      <td id=\"T_4326b_row7_col3\" class=\"data row7 col3\" ></td>\n",
       "      <td id=\"T_4326b_row7_col4\" class=\"data row7 col4\" ></td>\n",
       "      <td id=\"T_4326b_row7_col5\" class=\"data row7 col5\" >No issue</td>\n",
       "    </tr>\n",
       "    <tr>\n",
       "      <th id=\"T_4326b_level0_row8\" class=\"row_heading level0 row8\" >Owner</th>\n",
       "      <td id=\"T_4326b_row8_col0\" class=\"data row8 col0\" >int64</td>\n",
       "      <td id=\"T_4326b_row8_col1\" class=\"data row8 col1\" >0.000000</td>\n",
       "      <td id=\"T_4326b_row8_col2\" class=\"data row8 col2\" >1</td>\n",
       "      <td id=\"T_4326b_row8_col3\" class=\"data row8 col3\" >0.000000</td>\n",
       "      <td id=\"T_4326b_row8_col4\" class=\"data row8 col4\" >3.000000</td>\n",
       "      <td id=\"T_4326b_row8_col5\" class=\"data row8 col5\" >Column has 11 outliers greater than upper bound (0.00) or lower than lower bound(0.00). Cap them or remove them.</td>\n",
       "    </tr>\n",
       "  </tbody>\n",
       "</table>\n"
      ],
      "text/plain": [
       "<pandas.io.formats.style.Styler at 0x2266a4b8d90>"
      ]
     },
     "metadata": {},
     "output_type": "display_data"
    },
    {
     "name": "stdout",
     "output_type": "stream",
     "text": [
      "Number of All Scatter Plots = 3\n",
      "All Plots done\n",
      "Time to run AutoViz = 2 seconds \n",
      "\n",
      " ###################### AUTO VISUALIZATION Completed ########################\n"
     ]
    }
   ],
   "source": [
    "AV=AutoViz_Class()\n",
    "report = AV.AutoViz(data)"
   ]
  },
  {
   "cell_type": "code",
   "execution_count": 51,
   "id": "960c50fe-05e9-48b4-8751-c0cc55ef7217",
   "metadata": {},
   "outputs": [
    {
     "name": "stdout",
     "output_type": "stream",
     "text": [
      "1.2\n",
      "9.9\n",
      "8.700000000000001\n",
      "-11.850000000000001\n",
      "22.950000000000003\n"
     ]
    }
   ],
   "source": [
    "q1=data[\"Present_Price\"].quantile(0.25)\n",
    "q3=data[\"Present_Price\"].quantile(0.75)\n",
    "print(q1)\n",
    "print(q3)\n",
    "iqr=q3-q1\n",
    "print(iqr)\n",
    "lower_band=q1-(1.5*iqr)\n",
    "upper_band=q3+(1.5*iqr)\n",
    "print(lower_band)\n",
    "print(upper_band)"
   ]
  },
  {
   "cell_type": "code",
   "execution_count": 57,
   "id": "3a1c7ff9-306d-482c-a507-9509ce4553e0",
   "metadata": {},
   "outputs": [],
   "source": [
    "data=data[(data[\"Present_Price\"]>= lower_band) & (data[\"Present_Price\"]<= upper_band)]"
   ]
  },
  {
   "cell_type": "code",
   "execution_count": 59,
   "id": "4423242a-a560-47bb-bb7d-7512acf71f67",
   "metadata": {},
   "outputs": [
    {
     "name": "stdout",
     "output_type": "stream",
     "text": [
      "15000.0\n",
      "46853.0\n",
      "31853.0\n",
      "-32779.5\n",
      "94632.5\n"
     ]
    }
   ],
   "source": [
    "q1=data[\"Kms_Driven\"].quantile(0.25)\n",
    "q3=data[\"Kms_Driven\"].quantile(0.75)\n",
    "print(q1)\n",
    "print(q3)\n",
    "iqr=q3-q1\n",
    "print(iqr)\n",
    "lower_band=q1-(1.5*iqr)\n",
    "upper_band=q3+(1.5*iqr)\n",
    "print(lower_band)\n",
    "print(upper_band)\n",
    "data=data[(data[\"Kms_Driven\"]>= lower_band) & (data[\"Kms_Driven\"]<= upper_band)]"
   ]
  },
  {
   "cell_type": "code",
   "execution_count": 61,
   "id": "f2ff0caf-7fbc-4f99-ac50-3e7eed8ea25c",
   "metadata": {},
   "outputs": [],
   "source": [
    "numerical_features = ['Selling_Price','Present_Price','Kms_Driven']\n",
    "sns.pairplot(data[numerical_features])\n",
    "plt.show()"
   ]
  },
  {
   "cell_type": "code",
   "execution_count": 63,
   "id": "92947333-b5a1-46c1-b8a5-a96f6d742360",
   "metadata": {},
   "outputs": [
    {
     "data": {
      "text/plain": [
       "<function matplotlib.pyplot.show(*, block=None)>"
      ]
     },
     "execution_count": 63,
     "metadata": {},
     "output_type": "execute_result"
    }
   ],
   "source": [
    "numeric_data = data.select_dtypes(include='number')\n",
    "\n",
    "plt.figure(figsize=(8,6))\n",
    "sns.heatmap(numeric_data.corr())\n",
    "plt.show"
   ]
  },
  {
   "cell_type": "code",
   "execution_count": 65,
   "id": "78f5b6b2-5658-4a00-99f6-a7fb8c8b7fb1",
   "metadata": {},
   "outputs": [],
   "source": [
    "from sklearn.preprocessing import LabelEncoder"
   ]
  },
  {
   "cell_type": "code",
   "execution_count": 67,
   "id": "13847027-6aa8-48f4-ad77-579b3c92c47a",
   "metadata": {},
   "outputs": [],
   "source": [
    "le=LabelEncoder()\n",
    "data[\"Fuel_Type\"]=le.fit_transform(data[\"Fuel_Type\"])"
   ]
  },
  {
   "cell_type": "code",
   "execution_count": 71,
   "id": "0f354275-0e93-4ec5-b2a7-bcea27424ff3",
   "metadata": {},
   "outputs": [],
   "source": [
    "data[\"Seller_Type\"]=le.fit_transform(data[\"Seller_Type\"])\n",
    "data[\"Transmission\"]=le.fit_transform(data[\"Transmission\"])"
   ]
  },
  {
   "cell_type": "code",
   "execution_count": 73,
   "id": "feabac12-8fd5-4a31-9ddd-6894efd42df8",
   "metadata": {},
   "outputs": [
    {
     "name": "stdout",
     "output_type": "stream",
     "text": [
      "  Car_Name  Year  Selling_Price  Present_Price  Kms_Driven  Fuel_Type  \\\n",
      "0     ritz  2014      3.35           5.59          27000        2       \n",
      "1      sx4  2013      4.75           9.54          43000        1       \n",
      "2     ciaz  2017      7.25           9.85           6900        2       \n",
      "3  wagon r  2011      2.85           4.15           5200        2       \n",
      "4    swift  2014      4.60           6.87          42450        1       \n",
      "\n",
      "   Seller_Type  Transmission  Owner  \n",
      "0       0             1         0    \n",
      "1       0             1         0    \n",
      "2       0             1         0    \n",
      "3       0             1         0    \n",
      "4       0             1         0    \n"
     ]
    }
   ],
   "source": [
    "print(data.head())"
   ]
  },
  {
   "cell_type": "code",
   "execution_count": 77,
   "id": "1741cfe4-2154-4b55-bd5d-9a51ba8f996d",
   "metadata": {},
   "outputs": [],
   "source": [
    "x=data.drop([\"Car_Name\",\"Selling_Price\"],axis=1)\n",
    "y=data[\"Selling_Price\"]"
   ]
  },
  {
   "cell_type": "code",
   "execution_count": 91,
   "id": "748b2a5a-8f1a-4567-9252-0dfefe1d66b9",
   "metadata": {},
   "outputs": [],
   "source": [
    "from sklearn.model_selection import train_test_split\n",
    "from sklearn.ensemble import RandomForestRegressor\n",
    "from sklearn.metrics import mean_squared_error,mean_absolute_error,r2_score"
   ]
  },
  {
   "cell_type": "code",
   "execution_count": 81,
   "id": "97450825-8c5e-4178-b669-85266f947da9",
   "metadata": {},
   "outputs": [],
   "source": [
    "x_train,x_test,y_train,y_test=train_test_split(x,y,test_size=0.3,random_state=42)"
   ]
  },
  {
   "cell_type": "code",
   "execution_count": 83,
   "id": "8667ce47-c0aa-426a-94f9-4d914ce8e3f3",
   "metadata": {},
   "outputs": [
    {
     "data": {
      "text/plain": [
       "0.9557358392912215"
      ]
     },
     "execution_count": 83,
     "metadata": {},
     "output_type": "execute_result"
    }
   ],
   "source": [
    "model=RandomForestRegressor()\n",
    "model.fit(x_train,y_train)\n",
    "model.score(x_test,y_test)"
   ]
  },
  {
   "cell_type": "code",
   "execution_count": 85,
   "id": "7e59ae51-69f2-41f7-93a2-2374b9cfd6cd",
   "metadata": {},
   "outputs": [],
   "source": [
    "y_pred=model.predict(x_test)"
   ]
  },
  {
   "cell_type": "code",
   "execution_count": 89,
   "id": "4658f502-f207-44c8-a4fc-08bed5b9bf32",
   "metadata": {},
   "outputs": [
    {
     "name": "stdout",
     "output_type": "stream",
     "text": [
      "0.44359698635294115\n",
      "0.4484611764705884\n",
      "0.9557358392912215\n"
     ]
    }
   ],
   "source": [
    "mse=mean_squared_error(y_test,y_pred)\n",
    "rmse=mean_absolute_error(y_test, y_pred)\n",
    "r2 = r2_score(y_test, y_pred)\n",
    "print(mse)\n",
    "print(rmse)\n",
    "print(r2)"
   ]
  },
  {
   "cell_type": "code",
   "execution_count": null,
   "id": "88e43b43-a63f-46ea-bcbc-b70bca656853",
   "metadata": {},
   "outputs": [],
   "source": []
  }
 ],
 "metadata": {
  "kernelspec": {
   "display_name": "Python 3 (ipykernel)",
   "language": "python",
   "name": "python3"
  },
  "language_info": {
   "codemirror_mode": {
    "name": "ipython",
    "version": 3
   },
   "file_extension": ".py",
   "mimetype": "text/x-python",
   "name": "python",
   "nbconvert_exporter": "python",
   "pygments_lexer": "ipython3",
   "version": "3.11.7"
  }
 },
 "nbformat": 4,
 "nbformat_minor": 5
}
